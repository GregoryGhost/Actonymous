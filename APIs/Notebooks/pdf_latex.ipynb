{
 "cells": [
  {
   "cell_type": "markdown",
   "metadata": {},
   "source": [
    "## Примеры работы с pylatex\n"
   ]
  },
  {
   "cell_type": "code",
   "execution_count": null,
   "metadata": {},
   "outputs": [],
   "source": [
    "%pip install pylatex"
   ]
  },
  {
   "cell_type": "code",
   "execution_count": null,
   "metadata": {},
   "outputs": [],
   "source": [
    "from pylatex import Document, Section, Subsection, Command\n",
    "from pylatex.utils import italic, NoEscape\n",
    "\n",
    "\n",
    "def fill_document(doc):\n",
    "    \"\"\"Add a section, a subsection and some text to the document.\n",
    "\n",
    "    :param doc: the document\n",
    "    :type doc: :class:`pylatex.document.Document` instance\n",
    "    \"\"\"\n",
    "    with doc.create(Section(\"A section\")):\n",
    "        doc.append(\"Some regular text and some \")\n",
    "        doc.append(italic(\"italic text. \"))\n",
    "\n",
    "        with doc.create(Subsection(\"A subsection\")):\n",
    "            doc.append(\"Also some crazy characters: $&#{}\")\n"
   ]
  },
  {
   "cell_type": "markdown",
   "metadata": {},
   "source": [
    "### Basic document\n"
   ]
  },
  {
   "cell_type": "code",
   "execution_count": null,
   "metadata": {},
   "outputs": [],
   "source": [
    "# Basic document\n",
    "doc = Document(\"basic\")\n",
    "fill_document(doc)\n",
    "\n",
    "doc.generate_pdf(clean_tex=False)\n",
    "doc.generate_tex()\n",
    "\n",
    "# Document with `\\maketitle` command activated\n",
    "doc = Document()\n",
    "\n",
    "doc.preamble.append(Command(\"title\", \"Awesome Title\"))\n",
    "doc.preamble.append(Command(\"author\", \"Anonymous author\"))\n",
    "doc.preamble.append(Command(\"date\", NoEscape(r\"\\today\")))\n",
    "doc.append(NoEscape(r\"\\maketitle\"))\n",
    "\n",
    "fill_document(doc)\n",
    "\n",
    "doc.generate_pdf(\"basic_maketitle\", clean_tex=False)\n",
    "\n",
    "# Add stuff to the document\n",
    "with doc.create(Section(\"A second section\")):\n",
    "    doc.append(\"Some text.\")\n",
    "\n",
    "doc.generate_pdf(\"basic_maketitle2\", clean_tex=False)\n",
    "tex = doc.dumps()  # The document as string in LaTeX syntax\n"
   ]
  },
  {
   "cell_type": "markdown",
   "metadata": {},
   "source": [
    "### Multirow example\n"
   ]
  },
  {
   "cell_type": "code",
   "execution_count": null,
   "metadata": {},
   "outputs": [],
   "source": [
    "from pylatex import Document, Section, Subsection, Tabular, MultiColumn, MultiRow\n",
    "\n",
    "doc = Document(\"multirow\")\n",
    "section = Section(\"Multirow Test\")\n",
    "\n",
    "test1 = Subsection(\"MultiColumn\")\n",
    "test2 = Subsection(\"MultiRow\")\n",
    "test3 = Subsection(\"MultiColumn and MultiRow\")\n",
    "test4 = Subsection(\"Vext01\")\n",
    "\n",
    "table1 = Tabular(\"|c|c|c|c|\")\n",
    "table1.add_hline()\n",
    "table1.add_row((MultiColumn(4, align=\"|c|\", data=\"Multicolumn\"),))\n",
    "table1.add_hline()\n",
    "table1.add_row((1, 2, 3, 4))\n",
    "table1.add_hline()\n",
    "table1.add_row((5, 6, 7, 8))\n",
    "table1.add_hline()\n",
    "row_cells = (\"9\", MultiColumn(3, align=\"|c|\", data=\"Multicolumn not on left\"))\n",
    "table1.add_row(row_cells)\n",
    "table1.add_hline()\n",
    "\n",
    "table2 = Tabular(\"|c|c|c|\")\n",
    "table2.add_hline()\n",
    "table2.add_row((MultiRow(3, data=\"Multirow\"), 1, 2))\n",
    "table2.add_hline(2, 3)\n",
    "table2.add_row((\"\", 3, 4))\n",
    "table2.add_hline(2, 3)\n",
    "table2.add_row((\"\", 5, 6))\n",
    "table2.add_hline()\n",
    "table2.add_row((MultiRow(3, data=\"Multirow2\"), \"\", \"\"))\n",
    "table2.add_empty_row()\n",
    "table2.add_empty_row()\n",
    "table2.add_hline()\n",
    "\n",
    "table3 = Tabular(\"|c|c|c|\")\n",
    "table3.add_hline()\n",
    "table3.add_row(\n",
    "    (MultiColumn(2, align=\"|c|\", data=MultiRow(2, data=\"multi-col-row\")), \"X\")\n",
    ")\n",
    "table3.add_row((MultiColumn(2, align=\"|c|\", data=\"\"), \"X\"))\n",
    "table3.add_hline()\n",
    "table3.add_row((\"X\", \"X\", \"X\"))\n",
    "table3.add_hline()\n",
    "\n",
    "table4 = Tabular(\"|c|c|c|\")\n",
    "table4.add_hline()\n",
    "col1_cell = MultiRow(4, data=\"span-4\")\n",
    "col2_cell = MultiRow(2, data=\"span-2\")\n",
    "table4.add_row((col1_cell, col2_cell, \"3a\"))\n",
    "table4.add_hline(start=3)\n",
    "table4.add_row((\"\", \"\", \"3b\"))\n",
    "table4.add_hline(start=2)\n",
    "table4.add_row((\"\", col2_cell, \"3c\"))\n",
    "table4.add_hline(start=3)\n",
    "table4.add_row((\"\", \"\", \"3d\"))\n",
    "table4.add_hline()\n",
    "\n",
    "test1.append(table1)\n",
    "test2.append(table2)\n",
    "test3.append(table3)\n",
    "test4.append(table4)\n",
    "\n",
    "section.append(test1)\n",
    "section.append(test2)\n",
    "section.append(test3)\n",
    "section.append(test4)\n",
    "\n",
    "doc.append(section)\n",
    "doc.generate_pdf(clean_tex=False)\n"
   ]
  },
  {
   "cell_type": "markdown",
   "metadata": {},
   "source": [
    "## Генерация таблицы по актам\n"
   ]
  },
  {
   "cell_type": "code",
   "execution_count": null,
   "metadata": {},
   "outputs": [],
   "source": [
    "%pip install jira\n",
    "%pip install dataclasses-json"
   ]
  },
  {
   "cell_type": "code",
   "execution_count": null,
   "metadata": {},
   "outputs": [],
   "source": [
    "from datetime import datetime\n",
    "from jira_dtos import UserWorklogItemDto\n",
    "\n",
    "\n",
    "t = UserWorklogItemDto(\n",
    "    task_code=\"2,\",\n",
    "    task_name=\"kekw\",\n",
    "    start_period_date=datetime.now(),\n",
    "    end_period_date=datetime.now(),\n",
    "    time_spent_seconds=234234,\n",
    ")\n",
    "\n",
    "print(t)\n"
   ]
  },
  {
   "cell_type": "code",
   "execution_count": null,
   "metadata": {},
   "outputs": [],
   "source": [
    "from jira import JIRA\n",
    "import json\n",
    "\n",
    "from jira_dtos import JiraInfo, DateRange\n",
    "from jira_helpers import map_user_worklog, map_issues\n"
   ]
  },
  {
   "cell_type": "code",
   "execution_count": null,
   "metadata": {},
   "outputs": [],
   "source": [
    "# NOTE: a sensitive data\n",
    "user_login = \"JIRA LOGIN\"\n",
    "user_jira_password = \"PASSWORD\"\n",
    "jira_info = JiraInfo(\n",
    "    jira_server_address=\"https://jira.com/\",\n",
    "    basic_auth=(user_login, user_jira_password),\n",
    "    user_login=user_login,\n",
    ")\n"
   ]
  },
  {
   "cell_type": "code",
   "execution_count": null,
   "metadata": {},
   "outputs": [],
   "source": [
    "auth_jira = JIRA(\n",
    "    basic_auth=jira_info.basic_auth, options={\"server\": jira_info.jira_server_address}\n",
    ")\n"
   ]
  },
  {
   "cell_type": "code",
   "execution_count": null,
   "metadata": {},
   "outputs": [],
   "source": [
    "startWorklogDate = \"2022-08-14\"\n",
    "endWorklogDate = \"2022-09-14\"\n",
    "jql = f'worklogAuthor in (\"{jira_info.user_login}\") and worklogDate >= {startWorklogDate} and worklogDate <= {endWorklogDate}'\n",
    "found_issues = auth_jira.search_issues(jql)\n",
    "print(found_issues)\n"
   ]
  },
  {
   "cell_type": "code",
   "execution_count": null,
   "metadata": {},
   "outputs": [],
   "source": [
    "from time import strptime\n",
    "import dateutil.parser\n",
    "\n",
    "start_date = dateutil.parser.isoparse(startWorklogDate)\n",
    "end_date = dateutil.parser.isoparse(endWorklogDate)\n",
    "worklogs_data_range = DateRange(start_date=start_date, end_date=end_date)\n",
    "map_issue = lambda issue: map_issues(issue, jira_info.user_login, worklogs_data_range)\n",
    "user_worklogs = map(map_issue, found_issues)\n",
    "user_worklog_items = list(map(map_user_worklog, user_worklogs))\n"
   ]
  },
  {
   "cell_type": "code",
   "execution_count": null,
   "metadata": {},
   "outputs": [],
   "source": [
    "t1 = UserWorklogItemDto.schema().dumps(user_worklog_items, many=True)\n",
    "print(t1)\n",
    "t2 = UserWorklogItemDto.schema().loads(t1, many=True)\n",
    "t3 = list(filter(None, t2))\n",
    "print()\n",
    "print(t3[0].task_code)\n"
   ]
  },
  {
   "cell_type": "code",
   "execution_count": null,
   "metadata": {},
   "outputs": [],
   "source": [
    "in_hours = filter(lambda x: x != None, user_worklog_items)\n",
    "in_hours = map(lambda x: x.time_spent_seconds, in_hours)  # type: ignore\n",
    "s = sum(in_hours)\n",
    "print(s / 3600)\n"
   ]
  },
  {
   "cell_type": "code",
   "execution_count": null,
   "metadata": {},
   "outputs": [],
   "source": [
    "from dataclasses import dataclass\n",
    "from dataclasses_json import dataclass_json\n",
    "\n",
    "\n",
    "@dataclass_json\n",
    "@dataclass\n",
    "class Person:\n",
    "    name: str\n",
    "\n",
    "\n",
    "people_json = [Person(\"lidatong\")]\n",
    "t = Person.schema().dumps(people_json, many=True)  # '[{\"name\": \"lidatong\"}]'\n",
    "t2 = Person.schema().loads('[{\"name2\": \"lidatong\"}]', many=True)\n",
    "\n",
    "print(type(t2[0]))\n"
   ]
  },
  {
   "cell_type": "code",
   "execution_count": null,
   "metadata": {},
   "outputs": [],
   "source": [
    "# generate_act_doc(user_worklog_items)\n"
   ]
  },
  {
   "cell_type": "markdown",
   "metadata": {},
   "source": [
    "## Пример работы с питоновскими датами -> str и обратно\n"
   ]
  },
  {
   "cell_type": "code",
   "execution_count": null,
   "metadata": {},
   "outputs": [],
   "source": [
    "%pip install python-dateutil"
   ]
  },
  {
   "cell_type": "code",
   "execution_count": null,
   "metadata": {},
   "outputs": [],
   "source": [
    "import dateutil.parser\n",
    "\n",
    "raw_date = \"2022-08-14T15:59:00.000+0300\"\n",
    "date = dateutil.parser.isoparse(raw_date)\n",
    "print(date)\n",
    "print(type(date))\n",
    "\n",
    "str_date = date.isoformat()\n",
    "print(str_date)\n",
    "\n",
    "str2_date = \"2022-08-14\"\n",
    "date2 = dateutil.parser.isoparse(str2_date)\n",
    "print(date2)\n",
    "\n",
    "is_intersected_yep = date2.timestamp() <= date.timestamp()\n",
    "print(is_intersected_yep)\n"
   ]
  },
  {
   "cell_type": "markdown",
   "metadata": {},
   "source": [
    "## Пример генерации PDF актов через pylatex\n"
   ]
  },
  {
   "cell_type": "code",
   "execution_count": null,
   "metadata": {},
   "outputs": [],
   "source": [
    "%pip install pylatex"
   ]
  },
  {
   "cell_type": "code",
   "execution_count": null,
   "metadata": {},
   "outputs": [],
   "source": [
    "from dataclasses import dataclass\n",
    "from typing import final\n",
    "from pylatex import (\n",
    "    Document,\n",
    "    Section,\n",
    "    Subsection,\n",
    "    Tabular,\n",
    "    MultiColumn,\n",
    "    MultiRow,\n",
    "    Command,\n",
    ")\n",
    "from jira_helpers import MappedUserWorklog\n",
    "from jira_dtos import UserWorklogItemDto\n",
    "from pylatex.utils import bold\n",
    "\n",
    "\n",
    "@final\n",
    "@dataclass\n",
    "class ActRecord:\n",
    "    column_number: int\n",
    "    service_name: str\n",
    "    time_spent_in_hours: float\n",
    "\n",
    "\n",
    "MappedUserWorklogs = list[MappedUserWorklog]\n",
    "ActRecords = list[ActRecord]\n",
    "\n",
    "\n",
    "def map_act_record(worklog: UserWorklogItemDto, index: int) -> ActRecord:\n",
    "    service_name = f\"{worklog.task_code}. {worklog.task_name}\"\n",
    "    in_hours = worklog.time_spent_seconds / 3600\n",
    "    record = ActRecord(\n",
    "        column_number=index, service_name=service_name, time_spent_in_hours=in_hours\n",
    "    )\n",
    "\n",
    "    return record\n",
    "\n",
    "\n",
    "def format_act_records(worklogs: MappedUserWorklogs) -> ActRecords:\n",
    "    filtered = filter(None, worklogs)\n",
    "    enumerated = enumerate(filtered)\n",
    "    act_records = map(lambda x: map_act_record(x[1], x[0]), enumerated)\n",
    "    act_records = list(act_records)\n",
    "\n",
    "    return act_records\n"
   ]
  },
  {
   "cell_type": "code",
   "execution_count": null,
   "metadata": {},
   "outputs": [],
   "source": [
    "from dataclasses import dataclass\n",
    "from typing import final\n",
    "from pylatex import (\n",
    "    Document,\n",
    "    Section,\n",
    "    Subsection,\n",
    "    Tabular,\n",
    "    MultiColumn,\n",
    "    MultiRow,\n",
    "    Command,\n",
    ")\n",
    "from jira_helpers import MappedUserWorklog\n",
    "from jira_dtos import UserWorklogItemDto\n",
    "from pylatex.utils import bold\n",
    "\n",
    "\n",
    "@final\n",
    "@dataclass\n",
    "class TaskRecord:\n",
    "    column_number: int\n",
    "    service_name: str\n",
    "    validity: str\n",
    "\n",
    "\n",
    "TaskRecords = list[TaskRecord]\n",
    "\n",
    "\n",
    "def map_task_record(worklog: UserWorklogItemDto, index: int) -> TaskRecord:\n",
    "    service_name = f\"{worklog.task_code}. {worklog.task_name}\"\n",
    "    start_period = worklog.start_period_date.strftime(\"%d.%m.%Y\")\n",
    "    end_period = worklog.end_period_date.strftime(\"%d.%m.%Y\")\n",
    "    validity = f\"{start_period} - {end_period}\"\n",
    "    record = TaskRecord(\n",
    "        column_number=index, service_name=service_name, validity=validity\n",
    "    )\n",
    "\n",
    "    return record\n",
    "\n",
    "\n",
    "def format_task_records(worklogs: MappedUserWorklogs) -> TaskRecords:\n",
    "    filtered = filter(None, worklogs)\n",
    "    enumerated = enumerate(filtered)\n",
    "    task_records = map(lambda x: map_task_record(x[1], x[0]), enumerated)\n",
    "    task_records = list(task_records)\n",
    "\n",
    "    return task_records\n"
   ]
  },
  {
   "cell_type": "code",
   "execution_count": null,
   "metadata": {},
   "outputs": [],
   "source": [
    "from datetime import datetime\n",
    "\n",
    "time = datetime.now().strftime(\"%d.%m.%Y\")\n",
    "print(\"time:\", time)\n"
   ]
  },
  {
   "cell_type": "code",
   "execution_count": null,
   "metadata": {},
   "outputs": [],
   "source": [
    "def generate_act_table(worklogs: MappedUserWorklogs) -> Tabular:\n",
    "    table = Tabular(\"| p | p | p |\", row_height=1.5)\n",
    "    table.add_hline()\n",
    "    header = [\n",
    "        \"№\",\n",
    "        MultiColumn(size=1, align=\"|r|\", data=\"Наименование услуг (объем, перечень)\"),\n",
    "        \"Затраченное время (часы)\",\n",
    "    ]\n",
    "    table.add_row(header, mapper=[bold])\n",
    "    table.add_hline()\n",
    "\n",
    "    formatted_records = format_act_records(worklogs)\n",
    "    for record in formatted_records:\n",
    "        cells = [record.column_number, record.service_name, record.time_spent_in_hours]\n",
    "        table.add_row(cells)\n",
    "        table.add_hline()\n",
    "\n",
    "    row_cells = [\n",
    "        MultiColumn(size=2, align=\"|r|\", data=\"Стоимость, руб.: 331 703, 40 руб. \"),\n",
    "        173.7,\n",
    "    ]\n",
    "    table.add_row(row_cells, mapper=[bold])\n",
    "    table.add_hline()\n",
    "\n",
    "    return table\n",
    "\n",
    "\n",
    "def generate_act_doc(worklogs) -> None:\n",
    "    doc = Document(\"акты\", page_numbers=True, font_size=\"13pt\")\n",
    "    doc.preamble.append(Command(\"usepackage\", \"babel\", \"russian\"))\n",
    "    doc.preamble.append(Command(\"usepackage\", \"graphicx\"))\n",
    "    doc.preamble.append(Command(\"usepackage\", \"array\"))\n",
    "    doc.preamble.append(Command(\"usepackage\", \"lipsum\"))\n",
    "    doc.preamble.append(Command(\"usepackage\", \"geometry\"))\n",
    "    doc.preamble.append(\n",
    "        Command(\"geometry\", \"{a4paper, left=10mm, right=10mm, top=20mm\")\n",
    "    )\n",
    "\n",
    "    section = Section(\"АКТ СДАЧИ ПРИЕМКИ\")\n",
    "\n",
    "    test1 = Subsection(\"Пример таблицы\")\n",
    "    table1 = generate_act_table(worklogs)\n",
    "    test1.append(table1)\n",
    "    section.append(test1)\n",
    "\n",
    "    doc.append(section)\n",
    "    doc.generate_pdf(clean_tex=False, compiler=\"lualatex\")\n"
   ]
  },
  {
   "cell_type": "code",
   "execution_count": null,
   "metadata": {},
   "outputs": [],
   "source": [
    "def generate_task_table(worklogs: MappedUserWorklogs) -> Tabular:\n",
    "    table = Tabular(\"| p | p | p |\", row_height=1.5)\n",
    "    table.add_hline()\n",
    "    header = [\n",
    "        \"№\",\n",
    "        MultiColumn(size=1, align=\"|с|\", data=\"Наименование услуг\"),\n",
    "        \"Период выполнения работ\",\n",
    "    ]\n",
    "    table.add_hline()\n",
    "\n",
    "    formatted_records = format_task_records(worklogs)\n",
    "    for record in formatted_records:\n",
    "        cells = [record.column_number, record.service_name, record.validity]\n",
    "        table.add_row(cells)\n",
    "        table.add_hline()\n",
    "\n",
    "    row_cells = [\n",
    "        MultiColumn(size=2, align=\"|r|\", data=\"Стоимость, руб.: 331 703, 40 руб. \"),\n",
    "        173.7,\n",
    "    ]\n",
    "    table.add_row(row_cells, mapper=[bold])\n",
    "    table.add_hline()\n",
    "\n",
    "    return table\n",
    "\n",
    "\n",
    "def generate_task_doc(worklogs) -> None:\n",
    "    doc = Document(\"задание\", page_numbers=True, font_size=\"13pt\")\n",
    "    doc.preamble.append(Command(\"usepackage\", \"babel\", \"russian\"))\n",
    "    doc.preamble.append(Command(\"usepackage\", \"graphicx\"))\n",
    "    doc.preamble.append(Command(\"usepackage\", \"array\"))\n",
    "    doc.preamble.append(Command(\"usepackage\", \"lipsum\"))\n",
    "    doc.preamble.append(Command(\"usepackage\", \"geometry\"))\n",
    "    doc.preamble.append(\n",
    "        Command(\"geometry\", \"{a4paper, left=10mm, right=10mm, top=20mm\")\n",
    "    )\n",
    "\n",
    "    section = Section(\"Задание на выполенине работ\")\n",
    "\n",
    "    test1 = Subsection(\"Пример таблицы\")\n",
    "    table1 = generate_task_table(worklogs)\n",
    "    test1.append(table1)\n",
    "    section.append(test1)\n",
    "\n",
    "    doc.append(section)\n",
    "    doc.generate_pdf(clean_tex=False, compiler=\"lualatex\")\n"
   ]
  },
  {
   "cell_type": "code",
   "execution_count": null,
   "metadata": {},
   "outputs": [],
   "source": [
    "worklogs_str = '[{\"task_name\":\"Что есть зло? Чтобы это не было, оно возникает из слабости\",\"task_code\":\"D2C-1\",\"time_spent_seconds\":52200,\"start_period_date\":1662987567.499,\"end_period_date\":1663078476.16},{\"task_name\":\"Требуется много таланта и умения, чтобы скрыть свой талант и умение\",\"task_code\":\"D2C-2\",\"time_spent_seconds\":126000,\"start_period_date\":1662473799.184,\"end_period_date\":1663047038.527},{\"task_name\":\"Человек - это животное, которое умеет совершать сделки. Ни одна собака не будет меняться костью с другой собакой\",\"task_code\":\"D2C-3\",\"time_spent_seconds\":225000,\"start_period_date\":1661522651.363,\"end_period_date\":1662722506.429},{\"task_name\":\"Мы не должны расстраиваться, когда другие скрывают правду от нас, так как мы скрываем правду и от себя тоже\",\"task_code\":\"D2C-4\",\"time_spent_seconds\":115200,\"start_period_date\":1660831746.787,\"end_period_date\":1661497110.483},{\"task_name\":\"У каждого человека внутри сидит предатель\",\"task_code\":\"D2C-10\",\"time_spent_seconds\":99000,\"start_period_date\":1660573388.942,\"end_period_date\":1660813309.804}]'"
   ]
  },
  {
   "cell_type": "code",
   "execution_count": null,
   "metadata": {},
   "outputs": [],
   "source": [
    "from jira_dtos import UserWorklogItemDto\n",
    "\n",
    "\n",
    "worklogs = UserWorklogItemDto.schema().loads(worklogs_str, many=True)\n",
    "\n",
    "generate_act_doc(worklogs)\n"
   ]
  },
  {
   "cell_type": "code",
   "execution_count": null,
   "metadata": {},
   "outputs": [],
   "source": [
    "from jira_dtos import UserWorklogItemDto\n",
    "\n",
    "\n",
    "worklogs = UserWorklogItemDto.schema().loads(worklogs_str, many=True)\n",
    "\n",
    "generate_task_doc(worklogs)\n"
   ]
  },
  {
   "cell_type": "markdown",
   "metadata": {},
   "source": [
    "## Пример генерации pdf Акта через Lualatex\n"
   ]
  },
  {
   "cell_type": "code",
   "execution_count": null,
   "metadata": {},
   "outputs": [],
   "source": [
    "import subprocess\n",
    "\n",
    "file_path = \"./test_acts.tex\"\n",
    "job_name = \"--job-name=kekw\"\n",
    "output_directory = \"--output-directory=generated_pdfs\"\n",
    "subprocess.run([\"lualatex\", job_name, output_directory, file_path])\n"
   ]
  },
  {
   "cell_type": "markdown",
   "metadata": {},
   "source": [
    "## Формирование отчета на основе жсон данных и шаблона в Jinja\n"
   ]
  },
  {
   "cell_type": "markdown",
   "metadata": {},
   "source": [
    "### Формирование данных по Заданию\n"
   ]
  },
  {
   "cell_type": "code",
   "execution_count": null,
   "metadata": {},
   "outputs": [],
   "source": [
    "import subprocess\n",
    "from pathlib import Path\n",
    "\n",
    "FilePath = str\n",
    "\n",
    "\n",
    "def generate_pdf_acts(tex_file_path: Path) -> Path:\n",
    "    tex_file_name = tex_file_path.stem\n",
    "    job_name = f\"--job-name={tex_file_name}\"\n",
    "    generated_pdf_folder = \"generated_pdfs\"\n",
    "    output_directory = f\"--output-directory={generated_pdf_folder}\"\n",
    "    tex_file_pdf_folder = Path(generated_pdf_folder, tex_file_name)\n",
    "    generated_pdf_file_path = get_file_path_in_cur_dir(tex_file_pdf_folder)\n",
    "    text_file_filesystem_path = str(tex_file_path)\n",
    "    t = [job_name, output_directory, text_file_filesystem_path]\n",
    "    print(t)\n",
    "    subprocess.run([\"lualatex\", job_name, output_directory, text_file_filesystem_path])\n",
    "\n",
    "    return generated_pdf_file_path\n"
   ]
  }
 ],
 "metadata": {
  "kernelspec": {
   "display_name": "Python 3.10.5 64-bit",
   "language": "python",
   "name": "python3"
  },
  "language_info": {
   "codemirror_mode": {
    "name": "ipython",
    "version": 3
   },
   "file_extension": ".py",
   "mimetype": "text/x-python",
   "name": "python",
   "nbconvert_exporter": "python",
   "pygments_lexer": "ipython3",
   "version": "3.10.5"
  },
  "orig_nbformat": 4,
  "vscode": {
   "interpreter": {
    "hash": "369f2c481f4da34e4445cda3fffd2e751bd1c4d706f27375911949ba6bb62e1c"
   }
  }
 },
 "nbformat": 4,
 "nbformat_minor": 2
}
