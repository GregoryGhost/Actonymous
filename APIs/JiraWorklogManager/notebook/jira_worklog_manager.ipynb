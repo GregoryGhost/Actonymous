{
 "cells": [
  {
   "cell_type": "code",
   "execution_count": null,
   "metadata": {},
   "outputs": [],
   "source": [
    "%pip install jira"
   ]
  },
  {
   "cell_type": "code",
   "execution_count": null,
   "metadata": {},
   "outputs": [],
   "source": [
    "from jira import JIRA\n",
    "import json\n",
    "\n",
    "from ..domain.jira_dtos import JiraInfo, UserWorklogItemDtoEncoder\n",
    "from ..domain.jira_helpers import map_user_worklog, map_issues\n"
   ]
  },
  {
   "cell_type": "code",
   "execution_count": null,
   "metadata": {},
   "outputs": [],
   "source": [
    "# NOTE: a sensitive data\n",
    "user_login = \"USER_LOGIN\"\n",
    "user_jira_password = \"PASSWORD\"\n",
    "jira_info = JiraInfo(\n",
    "    jira_server_address=\"https://jira.com/\",\n",
    "    basic_auth=(user_login, user_jira_password),\n",
    "    user_login=user_login,\n",
    ")\n"
   ]
  },
  {
   "cell_type": "code",
   "execution_count": null,
   "metadata": {},
   "outputs": [],
   "source": [
    "auth_jira = JIRA(\n",
    "    basic_auth=jira_info.basic_auth, options={\"server\": jira_info.jira_server_address}\n",
    ")\n"
   ]
  },
  {
   "cell_type": "code",
   "execution_count": null,
   "metadata": {},
   "outputs": [],
   "source": [
    "startWorklogDate = \"2022-08-15\"\n",
    "endWorklogDate = \"2022-09-05\"\n",
    "jql = f'worklogAuthor in (\"{jira_info.user_login}\") and worklogDate >= {startWorklogDate} and worklogDate < {endWorklogDate}'\n",
    "found_issues = auth_jira.search_issues(jql)\n"
   ]
  },
  {
   "cell_type": "code",
   "execution_count": null,
   "metadata": {},
   "outputs": [],
   "source": [
    "map_issue = lambda issue: map_issues(issue, jira_info.user_login)\n",
    "user_worklogs = map(map_issue, found_issues)\n",
    "user_worklog_items = list(map(map_user_worklog, user_worklogs))\n",
    "json_user_worklogs = json.dumps(user_worklog_items, cls=UserWorklogItemDtoEncoder)\n",
    "print(json_user_worklogs)\n"
   ]
  }
 ],
 "metadata": {
  "kernelspec": {
   "display_name": "Python 3.10.5 64-bit",
   "language": "python",
   "name": "python3"
  },
  "language_info": {
   "codemirror_mode": {
    "name": "ipython",
    "version": 3
   },
   "file_extension": ".py",
   "mimetype": "text/x-python",
   "name": "python",
   "nbconvert_exporter": "python",
   "pygments_lexer": "ipython3",
   "version": "3.10.5"
  },
  "orig_nbformat": 4,
  "vscode": {
   "interpreter": {
    "hash": "369f2c481f4da34e4445cda3fffd2e751bd1c4d706f27375911949ba6bb62e1c"
   }
  }
 },
 "nbformat": 4,
 "nbformat_minor": 2
}
