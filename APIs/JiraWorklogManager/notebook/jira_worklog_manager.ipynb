{
 "cells": [
  {
   "cell_type": "code",
   "execution_count": null,
   "metadata": {},
   "outputs": [],
   "source": [
    "%pip install jira\n",
    "%pip install jira-worklog-manager-domain"
   ]
  },
  {
   "cell_type": "code",
   "execution_count": null,
   "metadata": {},
   "outputs": [],
   "source": [
    "from jira import JIRA\n",
    "\n",
    "from jira_worklog_manager_domain.jira_dtos import (\n",
    "    JiraInfo,\n",
    "    UserWorklogItemDto,\n",
    "    UserWorklogsInfo,\n",
    ")\n",
    "from jira_worklog_manager_domain.jira_helpers import (\n",
    "    get_total_task_hours,\n",
    "    get_user_worklogs_info,\n",
    "    get_worklog_date_range,\n",
    "    map_trimmered_issues_worklogs,\n",
    ")\n"
   ]
  },
  {
   "cell_type": "code",
   "execution_count": null,
   "metadata": {},
   "outputs": [],
   "source": [
    "# NOTE: a sensitive data\n",
    "user_login = \"JIRA LOGIN\"\n",
    "user_jira_password = \"JIRA PASSWORD\"\n",
    "jira_info = JiraInfo(\n",
    "    jira_server_address=\"https://jira.com/\",\n",
    "    basic_auth=(user_login, user_jira_password),\n",
    "    user_login=user_login,\n",
    ")\n"
   ]
  },
  {
   "cell_type": "code",
   "execution_count": null,
   "metadata": {},
   "outputs": [],
   "source": [
    "auth_jira = JIRA(\n",
    "    basic_auth=jira_info.basic_auth, options={\"server\": jira_info.jira_server_address}\n",
    ")\n"
   ]
  },
  {
   "cell_type": "code",
   "execution_count": null,
   "metadata": {},
   "outputs": [],
   "source": [
    "start_worklog_date = \"2022-10-14\"\n",
    "end_worklog_date = \"2022-11-13\"\n",
    "jql = f'worklogAuthor in (\"{jira_info.user_login}\") and worklogDate >= {start_worklog_date} and worklogDate < {end_worklog_date}'\n",
    "found_issues = auth_jira.search_issues(jql)\n"
   ]
  },
  {
   "cell_type": "code",
   "execution_count": null,
   "metadata": {},
   "outputs": [],
   "source": [
    "found_issues = map_trimmered_issues_worklogs(found_issues, auth_jira)\n"
   ]
  },
  {
   "cell_type": "code",
   "execution_count": null,
   "metadata": {},
   "outputs": [],
   "source": [
    "worklogs_data_range = get_worklog_date_range(start_worklog_date, end_worklog_date)\n",
    "user_worklog_info = UserWorklogsInfo(\n",
    "    issues=found_issues, worklogs_data_range=worklogs_data_range, user_login=user_login\n",
    ")\n",
    "user_worklogs = get_user_worklogs_info(user_worklog_info)\n",
    "json_user_worklogs = UserWorklogItemDto.schema().dumps(user_worklogs, many=True)\n",
    "total_task_hours = get_total_task_hours(user_worklogs)\n",
    "\n",
    "print(f\"total task hours: {total_task_hours}\")\n",
    "print()\n",
    "print(json_user_worklogs)\n"
   ]
  }
 ],
 "metadata": {
  "kernelspec": {
   "display_name": "Python 3.10.5 64-bit",
   "language": "python",
   "name": "python3"
  },
  "language_info": {
   "codemirror_mode": {
    "name": "ipython",
    "version": 3
   },
   "file_extension": ".py",
   "mimetype": "text/x-python",
   "name": "python",
   "nbconvert_exporter": "python",
   "pygments_lexer": "ipython3",
   "version": "3.10.5"
  },
  "orig_nbformat": 4,
  "vscode": {
   "interpreter": {
    "hash": "369f2c481f4da34e4445cda3fffd2e751bd1c4d706f27375911949ba6bb62e1c"
   }
  }
 },
 "nbformat": 4,
 "nbformat_minor": 2
}
