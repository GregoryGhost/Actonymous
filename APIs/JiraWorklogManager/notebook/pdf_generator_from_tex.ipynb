{
 "cells": [
  {
   "cell_type": "code",
   "execution_count": null,
   "metadata": {},
   "outputs": [],
   "source": [
    "from pathlib import Path\n",
    "import os\n",
    "\n",
    "\n",
    "def get_file_path_in_cur_dir(file_name_path: Path) -> Path:\n",
    "    current_dir = os.path.abspath(\"\")\n",
    "    path = Path(current_dir, file_name_path)\n",
    "\n",
    "    return path\n"
   ]
  },
  {
   "cell_type": "code",
   "execution_count": null,
   "metadata": {},
   "outputs": [],
   "source": [
    "import subprocess\n",
    "from pathlib import Path\n",
    "\n",
    "FilePath = str\n",
    "\n",
    "\n",
    "def generate_pdf_acts(tex_file_path: Path) -> Path:\n",
    "    tex_file_name = tex_file_path.stem\n",
    "    job_name = f\"--job-name={tex_file_name}\"\n",
    "    generated_pdf_folder = \"generated_pdfs\"\n",
    "    output_directory = f\"--output-directory={generated_pdf_folder}\"\n",
    "    tex_file_pdf_folder = Path(generated_pdf_folder, tex_file_name)\n",
    "    generated_pdf_file_path = get_file_path_in_cur_dir(tex_file_pdf_folder)\n",
    "    text_file_filesystem_path = str(tex_file_path)\n",
    "    t = [job_name, output_directory, text_file_filesystem_path]\n",
    "    print(t)\n",
    "    subprocess.run([\"lualatex\", job_name, output_directory, text_file_filesystem_path])\n",
    "\n",
    "    return generated_pdf_file_path\n"
   ]
  },
  {
   "cell_type": "code",
   "execution_count": null,
   "metadata": {},
   "outputs": [],
   "source": [
    "t = Path(\"PATH TO TEX FILE HERE\")\n",
    "generate_pdf_acts(t)\n"
   ]
  }
 ],
 "metadata": {
  "kernelspec": {
   "display_name": "Python 3.10.5 64-bit",
   "language": "python",
   "name": "python3"
  },
  "language_info": {
   "codemirror_mode": {
    "name": "ipython",
    "version": 3
   },
   "file_extension": ".py",
   "mimetype": "text/x-python",
   "name": "python",
   "nbconvert_exporter": "python",
   "pygments_lexer": "ipython3",
   "version": "3.10.5"
  },
  "orig_nbformat": 4,
  "vscode": {
   "interpreter": {
    "hash": "369f2c481f4da34e4445cda3fffd2e751bd1c4d706f27375911949ba6bb62e1c"
   }
  }
 },
 "nbformat": 4,
 "nbformat_minor": 2
}
