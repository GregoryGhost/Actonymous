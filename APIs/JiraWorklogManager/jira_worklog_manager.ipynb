{
 "cells": [
  {
   "cell_type": "code",
   "execution_count": null,
   "metadata": {},
   "outputs": [],
   "source": [
    "%pip install jira"
   ]
  },
  {
   "cell_type": "markdown",
   "metadata": {},
   "source": [
    "## Helpers"
   ]
  },
  {
   "cell_type": "code",
   "execution_count": 163,
   "metadata": {},
   "outputs": [],
   "source": [
    "class JiraInfo:\n",
    "    user_auth_token = ''\n",
    "    jira_server_address = ''\n",
    "    basic_auth = ('login', 'password')\n",
    "    user_login = ''\n",
    "\n",
    "    def __init__(self, user_auth_token, user_login, jira_server_address, basic_auth):\n",
    "        self.user_auth_token = user_auth_token\n",
    "        self.user_login = user_login\n",
    "        self.jira_server_address = jira_server_address\n",
    "        self.basic_auth = basic_auth"
   ]
  },
  {
   "cell_type": "code",
   "execution_count": 164,
   "metadata": {},
   "outputs": [],
   "source": [
    "import json\n",
    "\n",
    "class UserWorklogInfoEncoder(json.JSONEncoder):\n",
    "    def default(self, o):\n",
    "        return o.__dict__ \n",
    "\n",
    "class UserWorklogInfo:\n",
    "    comment = ''\n",
    "    created_date = None\n",
    "    time_spent_seconds = 0\n",
    "\n",
    "    def __init__(self, comment, created_date, time_spent_seconds):\n",
    "        self.comment = comment\n",
    "        self.created_date = created_date\n",
    "        self.time_spent_seconds = time_spent_seconds"
   ]
  },
  {
   "cell_type": "code",
   "execution_count": 165,
   "metadata": {},
   "outputs": [],
   "source": [
    "import json\n",
    "\n",
    "class JiraIssueEncoder(json.JSONEncoder):\n",
    "    def default(self, o):\n",
    "        return o.__dict__ \n",
    "\n",
    "class JiraIssue:\n",
    "    code = ''\n",
    "    name = ''\n",
    "    worklogs = []\n",
    "\n",
    "    def __init__(self, code, name, worklogs):\n",
    "        self.code = code\n",
    "        self.name = name\n",
    "        self.worklogs = worklogs"
   ]
  },
  {
   "cell_type": "code",
   "execution_count": 166,
   "metadata": {},
   "outputs": [],
   "source": [
    "def get_user_worklogs(issue, user_login):\n",
    "    worklogs = issue.raw['fields']['worklog']['worklogs']\n",
    "    worklogs = filter(lambda x: x['author']['name'] == user_login, worklogs)\n",
    "    worklogs = map(lambda x: UserWorklogInfo(\n",
    "        comment = x['comment'],\n",
    "        created_date = x['created'],\n",
    "        time_spent_seconds = x['timeSpentSeconds']\n",
    "    ), worklogs)\n",
    "    worklogs = list(worklogs)\n",
    "\n",
    "    return worklogs"
   ]
  },
  {
   "cell_type": "code",
   "execution_count": 167,
   "metadata": {},
   "outputs": [],
   "source": [
    "def map_issues(issue, user_login):\n",
    "    issue_code = issue.raw['key']\n",
    "    issue_name = issue.raw['fields']['summary']\n",
    "    worklogs = get_user_worklogs(issue, user_login)\n",
    "    # json_worklogs = json.dumps(worklogs, cls = UserWorklogInfoEncoder)\n",
    "    mapped = JiraIssue(\n",
    "        code = issue_code,\n",
    "        name = issue_name,\n",
    "        worklogs = worklogs\n",
    "    )\n",
    "\n",
    "    return mapped"
   ]
  },
  {
   "cell_type": "code",
   "execution_count": 174,
   "metadata": {},
   "outputs": [],
   "source": [
    "import json\n",
    "\n",
    "class UserWorklogItemDtoEncoder(json.JSONEncoder):\n",
    "    def default(self, o):\n",
    "        return o.__dict__ \n",
    "\n",
    "class UserWorklogItemDto:\n",
    "    task_code = ''\n",
    "    task_name = ''\n",
    "    start_period_date = None\n",
    "    end_period_date = None\n",
    "    time_spent_seconds = 0\n",
    "\n",
    "    def __init__(self, task_code, task_name, start_period_date, end_period_date, time_spent_seconds):\n",
    "        self.task_code = task_code\n",
    "        self.task_name = task_name\n",
    "        self.start_period_date = start_period_date\n",
    "        self.end_period_date = end_period_date\n",
    "        self.time_spent_seconds = time_spent_seconds"
   ]
  },
  {
   "cell_type": "code",
   "execution_count": 196,
   "metadata": {},
   "outputs": [],
   "source": [
    "def get_worklogs_period(worklogs):\n",
    "    if not worklogs:\n",
    "        return (None, None)\n",
    "    \n",
    "    select_dates = lambda x: x.created_date\n",
    "    start_period = min(worklogs, key=select_dates).created_date\n",
    "    end_period = max(worklogs, key=select_dates).created_date\n",
    "\n",
    "    return (start_period, end_period)\n",
    "\n",
    "def get_time_spent(worklogs):\n",
    "    times = map(lambda x: x.time_spent_seconds, worklogs)\n",
    "    time_spent = sum(times)\n",
    "\n",
    "    return time_spent\n",
    "\n",
    "def map_user_worklog(user_worklog):\n",
    "    start_period_date, end_period_date = get_worklogs_period(user_worklog.worklogs)\n",
    "    time_spent_seconds = get_time_spent(user_worklog.worklogs)\n",
    "    user_worklog_item = UserWorklogItemDto(\n",
    "        task_code = user_worklog.code,\n",
    "        task_name = user_worklog.name,\n",
    "        start_period_date = start_period_date,\n",
    "        end_period_date = end_period_date,\n",
    "        time_spent_seconds = time_spent_seconds\n",
    "    )\n",
    "\n",
    "    return user_worklog_item"
   ]
  },
  {
   "cell_type": "markdown",
   "metadata": {},
   "source": [
    "## Code"
   ]
  },
  {
   "cell_type": "code",
   "execution_count": 168,
   "metadata": {},
   "outputs": [],
   "source": [
    "user_login = 'JIRA_LOGIN'\n",
    "jira_info = JiraInfo(\n",
    "    user_auth_token = '',\n",
    "    jira_server_address = 'https://jira.com/',\n",
    "    basic_auth = (user_login, 'JIRA_PASSWORD'),\n",
    "    user_login = user_login\n",
    ")"
   ]
  },
  {
   "cell_type": "code",
   "execution_count": 169,
   "metadata": {},
   "outputs": [],
   "source": [
    "from jira import JIRA\n",
    "\n",
    "auth_jira = JIRA(\n",
    "    basic_auth = jira_info.basic_auth,\n",
    "    options = {'server': jira_info.jira_server_address }\n",
    ")"
   ]
  },
  {
   "cell_type": "code",
   "execution_count": 170,
   "metadata": {},
   "outputs": [],
   "source": [
    "import json\n",
    "\n",
    "startWorklogDate = '2022-08-15'\n",
    "endWorklogDate = '2022-09-05'\n",
    "jql = f'worklogAuthor in (\"{jira_info.user_login}\") and worklogDate >= {startWorklogDate} and worklogDate < {endWorklogDate}'\n",
    "found_issues = auth_jira.search_issues(jql)"
   ]
  },
  {
   "cell_type": "code",
   "execution_count": null,
   "metadata": {},
   "outputs": [],
   "source": [
    "map_issue = lambda issue: map_issues(issue, jira_info.user_login)\n",
    "user_worklogs = map(map_issue, found_issues)\n",
    "user_worklog_items = list(map(map_user_worklog, user_worklogs))\n",
    "json_user_worklogs = json.dumps(user_worklog_items, cls = UserWorklogItemDtoEncoder)\n",
    "print(json_user_worklogs)"
   ]
  }
 ],
 "metadata": {
  "kernelspec": {
   "display_name": "Python 3.10.5 64-bit",
   "language": "python",
   "name": "python3"
  },
  "language_info": {
   "codemirror_mode": {
    "name": "ipython",
    "version": 3
   },
   "file_extension": ".py",
   "mimetype": "text/x-python",
   "name": "python",
   "nbconvert_exporter": "python",
   "pygments_lexer": "ipython3",
   "version": "3.10.5"
  },
  "orig_nbformat": 4,
  "vscode": {
   "interpreter": {
    "hash": "369f2c481f4da34e4445cda3fffd2e751bd1c4d706f27375911949ba6bb62e1c"
   }
  }
 },
 "nbformat": 4,
 "nbformat_minor": 2
}
